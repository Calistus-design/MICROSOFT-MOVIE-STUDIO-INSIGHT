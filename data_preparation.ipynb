{
 "cells": [
  {
   "cell_type": "markdown",
   "metadata": {},
   "source": [
    "## Data Preparation\n",
    "---"
   ]
  },
  {
   "cell_type": "markdown",
   "metadata": {},
   "source": [
    "### Movie Budgets"
   ]
  },
  {
   "cell_type": "code",
   "execution_count": 1,
   "metadata": {},
   "outputs": [],
   "source": [
    "# Check the summary of the dataframe\n",
    "movie_budgets.info()"
   ]
  },
  {
   "cell_type": "code",
   "execution_count": null,
   "metadata": {},
   "outputs": [],
   "source": [
    "movie_budgets.head()"
   ]
  },
  {
   "cell_type": "code",
   "execution_count": null,
   "metadata": {},
   "outputs": [],
   "source": [
    "# Merge the exploded imdb dataframe with the movie_budgets dataframe\n",
    "imdb_revenue_exploded = imdb_exploded.merge(movie_budgets, left_on='primary_title', right_on='movie',how='inner')\n",
    "imdb_revenue_exploded = imdb_revenue_exploded.drop(columns=['movie_id','movie'])\n",
    "imdb_revenue_exploded.head()"
   ]
  },
  {
   "cell_type": "code",
   "execution_count": null,
   "metadata": {},
   "outputs": [],
   "source": [
    "# Plot the distribution of movie budgets\n",
    "sns.set_style('whitegrid')\n",
    "sns.set_palette('bright')\n",
    "plt.figure(figsize=(10, 5))\n",
    "sns.histplot(movie_budgets['production_budget'], bins=30)\n",
    "plt.axvline(movie_budgets['production_budget'].mean(), color='red', linestyle='dashed', linewidth=2, label='Mean')\n",
    "plt.title('Distribution of Movie Budgets')\n",
    "plt.xlabel('Budget Category')\n",
    "plt.ylabel('Count')\n",
    "plt.legend()\n",
    "plt.show()"
   ]
  },
  {
   "cell_type": "code",
   "execution_count": null,
   "metadata": {},
   "outputs": [],
   "source": [
    "#  Bin the production budget into three categories: Low, Medium, High\n",
    "labels = ['Low', 'Medium', 'High']\n",
    "bins = [0, 40000000, 100000000, movie_budgets['production_budget'].max()]\n",
    "binned_budgets = movie_budgets.copy()\n",
    "binned_budgets['budget_category'] = pd.cut(binned_budgets['production_budget'], bins=bins, labels=labels)\n",
    "counts = binned_budgets.value_counts('budget_category').to_frame()\n",
    "counts.reset_index(inplace=True)\n",
    "counts"
   ]
  },
  {
   "cell_type": "code",
   "execution_count": null,
   "metadata": {},
   "outputs": [],
   "source": [
    "# Create a visualization of the distribution of movie budgets\n",
    "plt.figure(figsize=(10, 5))\n",
    "sns.barplot(x='budget_category', y='count', data=counts, hue='budget_category', palette='Set1')\n",
    "plt.title('Distribution of Movie Budgets')\n",
    "plt.xlabel('Budget Category')\n",
    "plt.ylabel('Count')\n",
    "plt.show()"
   ]
  },
  {
   "cell_type": "code",
   "execution_count": null,
   "metadata": {},
   "outputs": [],
   "source": [
    "# Create a visualization of the distribution of worldwide gross\n",
    "plt.figure(figsize=(10, 5))\n",
    "sns.histplot(movie_budgets['worldwide_gross'], bins=30)\n",
    "plt.title('Distribution of Worldwide Gross')\n",
    "plt.xlabel('Worldwide Gross')\n",
    "plt.ylabel('Count')\n",
    "plt.axvline(movie_budgets['worldwide_gross'].mean(), color='red', linestyle='dashed', linewidth=2, label='Mean')\n",
    "plt.legend()\n",
    "plt.show()"
   ]
  },
  {
   "cell_type": "code",
   "execution_count": null,
   "metadata": {},
   "outputs": [],
   "source": [
    "# Bin the worldwide gross into three categories: Low, Medium, High\n",
    "bins = [0, 25000000, 100000000, binned_budgets['worldwide_gross'].max()]\n",
    "labels = ['Low', 'Medium', 'High']\n",
    "binned_budgets['gross_category'] = pd.cut(binned_budgets['worldwide_gross'], bins=bins, labels=labels)\n",
    "counts = binned_budgets.value_counts('gross_category').to_frame()\n",
    "counts.reset_index(inplace=True)\n"
   ]
  },
  {
   "cell_type": "code",
   "execution_count": null,
   "metadata": {},
   "outputs": [],
   "source": [
    "# Plot the distribution of worldwide gross categories\n",
    "plt.figure(figsize=(10, 5))\n",
    "sns.barplot(x='gross_category', y='count', data=counts, hue='gross_category', palette='Set1')\n",
    "plt.title('Distribution of Worldwide Gross')\n",
    "plt.xlabel('Gross Category')\n",
    "plt.ylabel('Count')\n",
    "plt.show()"
   ]
  },
  {
   "cell_type": "markdown",
   "metadata": {},
   "source": [
    "### IMDB "
   ]
  },
  {
   "cell_type": "code",
   "execution_count": null,
   "metadata": {},
   "outputs": [],
   "source": [
    "# Assign the movie_basics info to movie_basics df\n",
    "movie_basics = pd.read_sql(\"\"\"\n",
    "SELECT \n",
    "    movie_id, primary_title, genres\n",
    "FROM movie_basics\"\"\",conn)\n",
    "movie_basics.head()"
   ]
  },
  {
   "cell_type": "code",
   "execution_count": null,
   "metadata": {},
   "outputs": [],
   "source": [
    "# Assign the ovie ratings info to movie_ratiings df\n",
    "movie_ratings = pd.read_sql(\"\"\"\n",
    "SELECT\n",
    "    movie_id, averagerating\n",
    "FROM movie_ratings\"\"\",conn)\n",
    "movie_ratings.head()"
   ]
  },
  {
   "cell_type": "code",
   "execution_count": null,
   "metadata": {
    "scrolled": true
   },
   "outputs": [],
   "source": [
    "# Assign the directors to directors df\n",
    "directors = pd.read_sql(\"\"\"\n",
    "SELECT \n",
    "    movie_id, person_id, primary_name AS director_name\n",
    "FROM directors\n",
    "INNER JOIN persons\n",
    "USING(person_id)\n",
    "\"\"\",conn)\n",
    "directors.head()"
   ]
  },
  {
   "cell_type": "code",
   "execution_count": null,
   "metadata": {},
   "outputs": [],
   "source": [
    "# Assign actors in the database to a actors df\n",
    "actors = pd.read_sql(\"\"\"\n",
    "SELECT \n",
    "    movie_id, person_id, primary_name AS actor_name\n",
    "FROM principals\n",
    "INNER JOIN persons\n",
    "USING(person_id)\n",
    "WHERE category = 'actor' \n",
    "\"\"\",conn)\n",
    "actors.head()"
   ]
  },
  {
   "cell_type": "code",
   "execution_count": null,
   "metadata": {},
   "outputs": [],
   "source": [
    "# Explode the genres column in the movie_basics DataFrame\n",
    "movie_basics['genres'] = movie_basics['genres'].str.split(',')\n",
    "movie_basics_exploded = movie_basics.explode('genres')"
   ]
  },
  {
   "cell_type": "code",
   "execution_count": null,
   "metadata": {},
   "outputs": [],
   "source": [
    "# Merge the movie basics exploded df with the movie ratings df\n",
    "imdb_exploded = movie_basics_exploded.merge(movie_ratings, on='movie_id', how='inner')\n",
    "imdb_exploded.head()"
   ]
  },
  {
   "cell_type": "code",
   "execution_count": null,
   "metadata": {},
   "outputs": [],
   "source": [
    "# Merge the exploded imdb dataframe with the movie_budgets dataframe\n",
    "imdb_revenue_exploded = imdb_exploded.merge(movie_budgets, left_on='primary_title', right_on='movie',how='inner')\n",
    "\n",
    "imdb_revenue_exploded.head()"
   ]
  },
  {
   "cell_type": "code",
   "execution_count": null,
   "metadata": {},
   "outputs": [],
   "source": [
    "# Merge the imdb df with the directors df\n",
    "imdb_directors = imdb_revenue_exploded.merge(directors, on='movie_id', how='inner')\n",
    "imdb_directors = imdb_directors.drop(columns=['person_id'])\n",
    "imdb_directors.head()"
   ]
  },
  {
   "cell_type": "code",
   "execution_count": null,
   "metadata": {},
   "outputs": [],
   "source": [
    "# Merge the imdb_directors df with the actors df\n",
    "imdb_crew = imdb_directors.merge(actors, on='movie_id', how='inner')\n",
    "imdb_crew = imdb_crew.drop(columns=['person_id','movie'], axis=1)\n",
    "imdb_crew.head()"
   ]
  }
 ],
 "metadata": {
  "kernelspec": {
   "display_name": "Python (learn-env)",
   "language": "python",
   "name": "learn-env"
  },
  "language_info": {
   "codemirror_mode": {
    "name": "ipython",
    "version": 3
   },
   "file_extension": ".py",
   "mimetype": "text/x-python",
   "name": "python",
   "nbconvert_exporter": "python",
   "pygments_lexer": "ipython3",
   "version": "3.8.5"
  }
 },
 "nbformat": 4,
 "nbformat_minor": 4
}
